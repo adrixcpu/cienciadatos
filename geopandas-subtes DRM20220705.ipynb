{
 "cells": [
  {
   "cell_type": "code",
   "execution_count": 20,
   "id": "fda60418",
   "metadata": {},
   "outputs": [
    {
     "ename": "ModuleNotFoundError",
     "evalue": "No module named 'plotly'",
     "output_type": "error",
     "traceback": [
      "\u001b[1;31m---------------------------------------------------------------------------\u001b[0m",
      "\u001b[1;31mModuleNotFoundError\u001b[0m                       Traceback (most recent call last)",
      "\u001b[1;32m~\\AppData\\Local\\Temp\\ipykernel_14612\\209425466.py\u001b[0m in \u001b[0;36m<module>\u001b[1;34m\u001b[0m\n\u001b[0;32m      7\u001b[0m \u001b[1;32mfrom\u001b[0m \u001b[0mshapely\u001b[0m\u001b[1;33m.\u001b[0m\u001b[0mgeometry\u001b[0m \u001b[1;32mimport\u001b[0m \u001b[0mpoint\u001b[0m\u001b[1;33m\u001b[0m\u001b[1;33m\u001b[0m\u001b[0m\n\u001b[0;32m      8\u001b[0m \u001b[1;33m\u001b[0m\u001b[0m\n\u001b[1;32m----> 9\u001b[1;33m \u001b[1;32mimport\u001b[0m \u001b[0mplotly\u001b[0m\u001b[1;33m.\u001b[0m\u001b[0mexpress\u001b[0m \u001b[1;32mas\u001b[0m \u001b[0mpx\u001b[0m\u001b[1;33m\u001b[0m\u001b[1;33m\u001b[0m\u001b[0m\n\u001b[0m",
      "\u001b[1;31mModuleNotFoundError\u001b[0m: No module named 'plotly'"
     ]
    }
   ],
   "source": [
    "import pandas as pd\n",
    "import numpy as np\n",
    "import matplotlib.pyplot as plt\n",
    "\n",
    "import re\n",
    "import geopy.distance\n",
    "from shapely.geometry import point\n",
    "\n"
   ]
  },
  {
   "cell_type": "code",
   "execution_count": 332,
   "id": "044dce61",
   "metadata": {},
   "outputs": [],
   "source": [
    "#filtro_ciudad.to_csv('properati-comuna13.csv')\n",
    "\n"
   ]
  },
  {
   "cell_type": "code",
   "execution_count": 11,
   "id": "5b30babf",
   "metadata": {},
   "outputs": [],
   "source": [
    "import geopandas as gpd\n",
    "#dftren = gpd.read_file('ferrocarril.json')\n",
    "#dfsubte = gpd.read_file('estacion.json')"
   ]
  },
  {
   "cell_type": "code",
   "execution_count": 9,
   "id": "45fac478",
   "metadata": {},
   "outputs": [],
   "source": [
    "data_location = \"estaciones-de-subte.csv\"\n",
    "\n",
    "df_subte = pd.read_csv(data_location, sep=',')"
   ]
  },
  {
   "cell_type": "code",
   "execution_count": 8,
   "id": "b84c18f6",
   "metadata": {},
   "outputs": [],
   "source": [
    "data_location = \"data_reg_multiple.csv\"\n",
    "\n",
    "dfdata_reg_multiple = pd.read_csv(data_location, sep=',')"
   ]
  },
  {
   "cell_type": "code",
   "execution_count": 12,
   "id": "dfc62c5c",
   "metadata": {},
   "outputs": [],
   "source": [
    "#dfsubte= dfsubte[dfsubte.LINEA == 'D']\n",
    "#filtro = [\"Rivadavia\",\"Núñez\",\"Belgrano R.\",\"Belgrano C.\",\"Colegiales\"]\n",
    "#dftrenarea = dftren[dftren.nam.isin(filtro)]\n",
    "\n",
    "geo_subte = gpd.GeoDataFrame(df_subte,geometry=gpd.points_from_xy(df_subte.long, df_subte.lat))"
   ]
  },
  {
   "cell_type": "code",
   "execution_count": 13,
   "id": "24488e59",
   "metadata": {},
   "outputs": [
    {
     "data": {
      "text/html": [
       "<div>\n",
       "<style scoped>\n",
       "    .dataframe tbody tr th:only-of-type {\n",
       "        vertical-align: middle;\n",
       "    }\n",
       "\n",
       "    .dataframe tbody tr th {\n",
       "        vertical-align: top;\n",
       "    }\n",
       "\n",
       "    .dataframe thead th {\n",
       "        text-align: right;\n",
       "    }\n",
       "</style>\n",
       "<table border=\"1\" class=\"dataframe\">\n",
       "  <thead>\n",
       "    <tr style=\"text-align: right;\">\n",
       "      <th></th>\n",
       "      <th>long</th>\n",
       "      <th>lat</th>\n",
       "      <th>id</th>\n",
       "      <th>estacion</th>\n",
       "      <th>linea</th>\n",
       "      <th>geometry</th>\n",
       "    </tr>\n",
       "  </thead>\n",
       "  <tbody>\n",
       "    <tr>\n",
       "      <th>0</th>\n",
       "      <td>-58.398928</td>\n",
       "      <td>-34.635750</td>\n",
       "      <td>1.0</td>\n",
       "      <td>CASEROS</td>\n",
       "      <td>H</td>\n",
       "      <td>POINT (-58.39893 -34.63575)</td>\n",
       "    </tr>\n",
       "    <tr>\n",
       "      <th>1</th>\n",
       "      <td>-58.400970</td>\n",
       "      <td>-34.629376</td>\n",
       "      <td>2.0</td>\n",
       "      <td>INCLAN - MEZQUITA AL AHMAD</td>\n",
       "      <td>H</td>\n",
       "      <td>POINT (-58.40097 -34.62938)</td>\n",
       "    </tr>\n",
       "    <tr>\n",
       "      <th>2</th>\n",
       "      <td>-58.402323</td>\n",
       "      <td>-34.623092</td>\n",
       "      <td>3.0</td>\n",
       "      <td>HUMBERTO 1°</td>\n",
       "      <td>H</td>\n",
       "      <td>POINT (-58.40232 -34.62309)</td>\n",
       "    </tr>\n",
       "    <tr>\n",
       "      <th>3</th>\n",
       "      <td>-58.404732</td>\n",
       "      <td>-34.615242</td>\n",
       "      <td>4.0</td>\n",
       "      <td>VENEZUELA</td>\n",
       "      <td>H</td>\n",
       "      <td>POINT (-58.40473 -34.61524)</td>\n",
       "    </tr>\n",
       "    <tr>\n",
       "      <th>4</th>\n",
       "      <td>-58.406036</td>\n",
       "      <td>-34.608935</td>\n",
       "      <td>5.0</td>\n",
       "      <td>ONCE - 30 DE DICIEMBRE</td>\n",
       "      <td>H</td>\n",
       "      <td>POINT (-58.40604 -34.60894)</td>\n",
       "    </tr>\n",
       "  </tbody>\n",
       "</table>\n",
       "</div>"
      ],
      "text/plain": [
       "        long        lat   id                    estacion linea  \\\n",
       "0 -58.398928 -34.635750  1.0                     CASEROS     H   \n",
       "1 -58.400970 -34.629376  2.0  INCLAN - MEZQUITA AL AHMAD     H   \n",
       "2 -58.402323 -34.623092  3.0                 HUMBERTO 1°     H   \n",
       "3 -58.404732 -34.615242  4.0                   VENEZUELA     H   \n",
       "4 -58.406036 -34.608935  5.0      ONCE - 30 DE DICIEMBRE     H   \n",
       "\n",
       "                      geometry  \n",
       "0  POINT (-58.39893 -34.63575)  \n",
       "1  POINT (-58.40097 -34.62938)  \n",
       "2  POINT (-58.40232 -34.62309)  \n",
       "3  POINT (-58.40473 -34.61524)  \n",
       "4  POINT (-58.40604 -34.60894)  "
      ]
     },
     "execution_count": 13,
     "metadata": {},
     "output_type": "execute_result"
    }
   ],
   "source": [
    "geo_subte.head(5)"
   ]
  },
  {
   "cell_type": "code",
   "execution_count": 14,
   "id": "462ecec9",
   "metadata": {},
   "outputs": [
    {
     "name": "stdout",
     "output_type": "stream",
     "text": [
      "<class 'geopandas.geodataframe.GeoDataFrame'>\n",
      "RangeIndex: 4772 entries, 0 to 4771\n",
      "Data columns (total 15 columns):\n",
      " #   Column                 Non-Null Count  Dtype   \n",
      "---  ------                 --------------  -----   \n",
      " 0   Unnamed: 0             4772 non-null   int64   \n",
      " 1   place_name             4772 non-null   object  \n",
      " 2   price_aprox_usd        4772 non-null   float64 \n",
      " 3   surface_covered_in_m2  4772 non-null   float64 \n",
      " 4   price_usd_per_m2       4772 non-null   float64 \n",
      " 5   rooms_compuesta        4772 non-null   float64 \n",
      " 6   amenitie_balcon        4772 non-null   int64   \n",
      " 7   amenitie_cochera       4772 non-null   int64   \n",
      " 8   amenitie_parrilla      4772 non-null   int64   \n",
      " 9   amenitie_pileta        4772 non-null   int64   \n",
      " 10  amenitie_amoblado      4772 non-null   int64   \n",
      " 11  estrenar               4772 non-null   int64   \n",
      " 12  lat                    4772 non-null   float64 \n",
      " 13  lon                    4772 non-null   float64 \n",
      " 14  geometry               4772 non-null   geometry\n",
      "dtypes: float64(6), geometry(1), int64(7), object(1)\n",
      "memory usage: 559.3+ KB\n"
     ]
    }
   ],
   "source": [
    "#filtro_ciudad_geo  renombrar a dfdata_reg_multiple_geo\n",
    "filtro_ciudad_geo = gpd.GeoDataFrame(dfdata_reg_multiple, geometry = gpd.points_from_xy(dfdata_reg_multiple.lon, dfdata_reg_multiple.lat))\n",
    "filtro_ciudad_geo.info()"
   ]
  },
  {
   "cell_type": "code",
   "execution_count": 16,
   "id": "48215a76",
   "metadata": {},
   "outputs": [
    {
     "data": {
      "text/html": [
       "<div>\n",
       "<style scoped>\n",
       "    .dataframe tbody tr th:only-of-type {\n",
       "        vertical-align: middle;\n",
       "    }\n",
       "\n",
       "    .dataframe tbody tr th {\n",
       "        vertical-align: top;\n",
       "    }\n",
       "\n",
       "    .dataframe thead th {\n",
       "        text-align: right;\n",
       "    }\n",
       "</style>\n",
       "<table border=\"1\" class=\"dataframe\">\n",
       "  <thead>\n",
       "    <tr style=\"text-align: right;\">\n",
       "      <th></th>\n",
       "      <th>Unnamed: 0</th>\n",
       "      <th>place_name</th>\n",
       "      <th>price_aprox_usd</th>\n",
       "      <th>surface_covered_in_m2</th>\n",
       "      <th>price_usd_per_m2</th>\n",
       "      <th>rooms_compuesta</th>\n",
       "      <th>amenitie_balcon</th>\n",
       "      <th>amenitie_cochera</th>\n",
       "      <th>amenitie_parrilla</th>\n",
       "      <th>amenitie_pileta</th>\n",
       "      <th>amenitie_amoblado</th>\n",
       "      <th>estrenar</th>\n",
       "      <th>lat</th>\n",
       "      <th>lon</th>\n",
       "      <th>geometry</th>\n",
       "      <th>distsubte</th>\n",
       "    </tr>\n",
       "  </thead>\n",
       "  <tbody>\n",
       "    <tr>\n",
       "      <th>0</th>\n",
       "      <td>7</td>\n",
       "      <td>Belgrano</td>\n",
       "      <td>138000.0</td>\n",
       "      <td>40.0</td>\n",
       "      <td>3066.666667</td>\n",
       "      <td>1.0</td>\n",
       "      <td>0</td>\n",
       "      <td>0</td>\n",
       "      <td>0</td>\n",
       "      <td>1</td>\n",
       "      <td>0</td>\n",
       "      <td>1</td>\n",
       "      <td>-34.559873</td>\n",
       "      <td>-58.443362</td>\n",
       "      <td>POINT (-58.44336 -34.55987)</td>\n",
       "      <td></td>\n",
       "    </tr>\n",
       "  </tbody>\n",
       "</table>\n",
       "</div>"
      ],
      "text/plain": [
       "   Unnamed: 0 place_name  price_aprox_usd  surface_covered_in_m2  \\\n",
       "0           7   Belgrano         138000.0                   40.0   \n",
       "\n",
       "   price_usd_per_m2  rooms_compuesta  amenitie_balcon  amenitie_cochera  \\\n",
       "0       3066.666667              1.0                0                 0   \n",
       "\n",
       "   amenitie_parrilla  amenitie_pileta  amenitie_amoblado  estrenar        lat  \\\n",
       "0                  0                1                  0         1 -34.559873   \n",
       "\n",
       "         lon                     geometry distsubte  \n",
       "0 -58.443362  POINT (-58.44336 -34.55987)            "
      ]
     },
     "execution_count": 16,
     "metadata": {},
     "output_type": "execute_result"
    }
   ],
   "source": [
    "#creo la columna distancia al subte\n",
    "dfdata_reg_multiple['distsubte'] = \" \"\n",
    "\n",
    "dfdata_reg_multiple.head(1)"
   ]
  },
  {
   "cell_type": "code",
   "execution_count": 337,
   "id": "6ced71df",
   "metadata": {},
   "outputs": [
    {
     "name": "stderr",
     "output_type": "stream",
     "text": [
      "C:\\Users\\jpineros\\Anaconda3\\envs\\dhdsblend2021_geopandas\\lib\\site-packages\\pandas\\core\\indexing.py:670: SettingWithCopyWarning: \n",
      "A value is trying to be set on a copy of a slice from a DataFrame\n",
      "\n",
      "See the caveats in the documentation: https://pandas.pydata.org/pandas-docs/stable/user_guide/indexing.html#returning-a-view-versus-a-copy\n",
      "  iloc._setitem_with_indexer(indexer, value)\n"
     ]
    }
   ],
   "source": []
  },
  {
   "cell_type": "code",
   "execution_count": 17,
   "id": "7e5d24f7",
   "metadata": {},
   "outputs": [
    {
     "name": "stderr",
     "output_type": "stream",
     "text": [
      "C:\\Users\\L0521012\\Anaconda3\\envs\\dhdsblend2021_geopandas\\lib\\site-packages\\pandas\\core\\indexing.py:1732: SettingWithCopyWarning: \n",
      "A value is trying to be set on a copy of a slice from a DataFrame\n",
      "\n",
      "See the caveats in the documentation: https://pandas.pydata.org/pandas-docs/stable/user_guide/indexing.html#returning-a-view-versus-a-copy\n",
      "  self._setitem_single_block(indexer, value, name)\n"
     ]
    }
   ],
   "source": [
    "####################################################################################Distancia al subte\n",
    "#geo_subte = \n",
    "#filtro_ciudad_geo  renombrar a dfdata_reg_multiple_geo\n",
    "for i in range(len(filtro_ciudad_geo)):\n",
    "    mini =0\n",
    "    for j in range(len(dfsubte)):\n",
    "        dist= filtro_ciudad_geo['geometry'].iloc[i].distance(df_subte['geometry'].iloc[j])\n",
    "        if j==0:\n",
    "            mini = dist\n",
    "        if j>0 and dist < mini:\n",
    "            mini = dist\n",
    "    dfdata_reg_multiple['distsubte'].iloc[i] = mini"
   ]
  },
  {
   "cell_type": "code",
   "execution_count": 18,
   "id": "d6dda846",
   "metadata": {},
   "outputs": [
    {
     "data": {
      "text/html": [
       "<div>\n",
       "<style scoped>\n",
       "    .dataframe tbody tr th:only-of-type {\n",
       "        vertical-align: middle;\n",
       "    }\n",
       "\n",
       "    .dataframe tbody tr th {\n",
       "        vertical-align: top;\n",
       "    }\n",
       "\n",
       "    .dataframe thead th {\n",
       "        text-align: right;\n",
       "    }\n",
       "</style>\n",
       "<table border=\"1\" class=\"dataframe\">\n",
       "  <thead>\n",
       "    <tr style=\"text-align: right;\">\n",
       "      <th></th>\n",
       "      <th>Unnamed: 0</th>\n",
       "      <th>place_name</th>\n",
       "      <th>price_aprox_usd</th>\n",
       "      <th>surface_covered_in_m2</th>\n",
       "      <th>price_usd_per_m2</th>\n",
       "      <th>rooms_compuesta</th>\n",
       "      <th>amenitie_balcon</th>\n",
       "      <th>amenitie_cochera</th>\n",
       "      <th>amenitie_parrilla</th>\n",
       "      <th>amenitie_pileta</th>\n",
       "      <th>amenitie_amoblado</th>\n",
       "      <th>estrenar</th>\n",
       "      <th>lat</th>\n",
       "      <th>lon</th>\n",
       "      <th>geometry</th>\n",
       "      <th>distsubte</th>\n",
       "    </tr>\n",
       "  </thead>\n",
       "  <tbody>\n",
       "    <tr>\n",
       "      <th>0</th>\n",
       "      <td>7</td>\n",
       "      <td>Belgrano</td>\n",
       "      <td>138000.0</td>\n",
       "      <td>40.0</td>\n",
       "      <td>3066.666667</td>\n",
       "      <td>1.0</td>\n",
       "      <td>0</td>\n",
       "      <td>0</td>\n",
       "      <td>0</td>\n",
       "      <td>1</td>\n",
       "      <td>0</td>\n",
       "      <td>1</td>\n",
       "      <td>-34.559873</td>\n",
       "      <td>-58.443362</td>\n",
       "      <td>POINT (-58.44336 -34.55987)</td>\n",
       "      <td>0.010223</td>\n",
       "    </tr>\n",
       "    <tr>\n",
       "      <th>1</th>\n",
       "      <td>8</td>\n",
       "      <td>Belgrano</td>\n",
       "      <td>195000.0</td>\n",
       "      <td>60.0</td>\n",
       "      <td>3000.000000</td>\n",
       "      <td>3.0</td>\n",
       "      <td>0</td>\n",
       "      <td>0</td>\n",
       "      <td>0</td>\n",
       "      <td>1</td>\n",
       "      <td>0</td>\n",
       "      <td>1</td>\n",
       "      <td>-34.559873</td>\n",
       "      <td>-58.443362</td>\n",
       "      <td>POINT (-58.44336 -34.55987)</td>\n",
       "      <td>0.010223</td>\n",
       "    </tr>\n",
       "    <tr>\n",
       "      <th>2</th>\n",
       "      <td>17</td>\n",
       "      <td>Palermo</td>\n",
       "      <td>350000.0</td>\n",
       "      <td>96.0</td>\n",
       "      <td>3365.384615</td>\n",
       "      <td>3.0</td>\n",
       "      <td>1</td>\n",
       "      <td>0</td>\n",
       "      <td>0</td>\n",
       "      <td>0</td>\n",
       "      <td>0</td>\n",
       "      <td>0</td>\n",
       "      <td>-34.580504</td>\n",
       "      <td>-58.405874</td>\n",
       "      <td>POINT (-58.40587 -34.58050)</td>\n",
       "      <td>0.009443</td>\n",
       "    </tr>\n",
       "    <tr>\n",
       "      <th>3</th>\n",
       "      <td>19</td>\n",
       "      <td>Palermo</td>\n",
       "      <td>270500.0</td>\n",
       "      <td>73.0</td>\n",
       "      <td>2292.372881</td>\n",
       "      <td>4.0</td>\n",
       "      <td>0</td>\n",
       "      <td>0</td>\n",
       "      <td>0</td>\n",
       "      <td>0</td>\n",
       "      <td>0</td>\n",
       "      <td>0</td>\n",
       "      <td>-34.590926</td>\n",
       "      <td>-58.411665</td>\n",
       "      <td>POINT (-58.41167 -34.59093)</td>\n",
       "      <td>0.002714</td>\n",
       "    </tr>\n",
       "    <tr>\n",
       "      <th>4</th>\n",
       "      <td>47</td>\n",
       "      <td>Caballito</td>\n",
       "      <td>110000.0</td>\n",
       "      <td>50.0</td>\n",
       "      <td>2200.000000</td>\n",
       "      <td>3.0</td>\n",
       "      <td>1</td>\n",
       "      <td>0</td>\n",
       "      <td>0</td>\n",
       "      <td>0</td>\n",
       "      <td>0</td>\n",
       "      <td>0</td>\n",
       "      <td>-34.622211</td>\n",
       "      <td>-58.439128</td>\n",
       "      <td>POINT (-58.43913 -34.62221)</td>\n",
       "      <td>0.002731</td>\n",
       "    </tr>\n",
       "    <tr>\n",
       "      <th>5</th>\n",
       "      <td>48</td>\n",
       "      <td>Caballito</td>\n",
       "      <td>170500.0</td>\n",
       "      <td>46.0</td>\n",
       "      <td>1705.000000</td>\n",
       "      <td>2.0</td>\n",
       "      <td>0</td>\n",
       "      <td>0</td>\n",
       "      <td>0</td>\n",
       "      <td>0</td>\n",
       "      <td>0</td>\n",
       "      <td>0</td>\n",
       "      <td>-34.623894</td>\n",
       "      <td>-58.446861</td>\n",
       "      <td>POINT (-58.44686 -34.62389)</td>\n",
       "      <td>0.001824</td>\n",
       "    </tr>\n",
       "    <tr>\n",
       "      <th>6</th>\n",
       "      <td>49</td>\n",
       "      <td>Caballito</td>\n",
       "      <td>220410.0</td>\n",
       "      <td>75.0</td>\n",
       "      <td>2721.111111</td>\n",
       "      <td>3.0</td>\n",
       "      <td>0</td>\n",
       "      <td>1</td>\n",
       "      <td>0</td>\n",
       "      <td>0</td>\n",
       "      <td>0</td>\n",
       "      <td>0</td>\n",
       "      <td>-34.620928</td>\n",
       "      <td>-58.445874</td>\n",
       "      <td>POINT (-58.44587 -34.62093)</td>\n",
       "      <td>0.003803</td>\n",
       "    </tr>\n",
       "    <tr>\n",
       "      <th>7</th>\n",
       "      <td>50</td>\n",
       "      <td>Caballito</td>\n",
       "      <td>222780.0</td>\n",
       "      <td>75.0</td>\n",
       "      <td>2750.370370</td>\n",
       "      <td>3.0</td>\n",
       "      <td>0</td>\n",
       "      <td>1</td>\n",
       "      <td>0</td>\n",
       "      <td>0</td>\n",
       "      <td>0</td>\n",
       "      <td>0</td>\n",
       "      <td>-34.620928</td>\n",
       "      <td>-58.445874</td>\n",
       "      <td>POINT (-58.44587 -34.62093)</td>\n",
       "      <td>0.003803</td>\n",
       "    </tr>\n",
       "    <tr>\n",
       "      <th>8</th>\n",
       "      <td>54</td>\n",
       "      <td>Caballito</td>\n",
       "      <td>108000.0</td>\n",
       "      <td>67.0</td>\n",
       "      <td>1542.857143</td>\n",
       "      <td>3.0</td>\n",
       "      <td>1</td>\n",
       "      <td>0</td>\n",
       "      <td>0</td>\n",
       "      <td>0</td>\n",
       "      <td>0</td>\n",
       "      <td>0</td>\n",
       "      <td>-34.628786</td>\n",
       "      <td>-58.427783</td>\n",
       "      <td>POINT (-58.42778 -34.62879)</td>\n",
       "      <td>0.002031</td>\n",
       "    </tr>\n",
       "    <tr>\n",
       "      <th>9</th>\n",
       "      <td>96</td>\n",
       "      <td>Belgrano</td>\n",
       "      <td>178000.0</td>\n",
       "      <td>55.0</td>\n",
       "      <td>3236.363636</td>\n",
       "      <td>2.0</td>\n",
       "      <td>1</td>\n",
       "      <td>1</td>\n",
       "      <td>0</td>\n",
       "      <td>0</td>\n",
       "      <td>0</td>\n",
       "      <td>0</td>\n",
       "      <td>-34.562697</td>\n",
       "      <td>-58.460157</td>\n",
       "      <td>POINT (-58.46016 -34.56270)</td>\n",
       "      <td>0.003688</td>\n",
       "    </tr>\n",
       "  </tbody>\n",
       "</table>\n",
       "</div>"
      ],
      "text/plain": [
       "   Unnamed: 0 place_name  price_aprox_usd  surface_covered_in_m2  \\\n",
       "0           7   Belgrano         138000.0                   40.0   \n",
       "1           8   Belgrano         195000.0                   60.0   \n",
       "2          17    Palermo         350000.0                   96.0   \n",
       "3          19    Palermo         270500.0                   73.0   \n",
       "4          47  Caballito         110000.0                   50.0   \n",
       "5          48  Caballito         170500.0                   46.0   \n",
       "6          49  Caballito         220410.0                   75.0   \n",
       "7          50  Caballito         222780.0                   75.0   \n",
       "8          54  Caballito         108000.0                   67.0   \n",
       "9          96   Belgrano         178000.0                   55.0   \n",
       "\n",
       "   price_usd_per_m2  rooms_compuesta  amenitie_balcon  amenitie_cochera  \\\n",
       "0       3066.666667              1.0                0                 0   \n",
       "1       3000.000000              3.0                0                 0   \n",
       "2       3365.384615              3.0                1                 0   \n",
       "3       2292.372881              4.0                0                 0   \n",
       "4       2200.000000              3.0                1                 0   \n",
       "5       1705.000000              2.0                0                 0   \n",
       "6       2721.111111              3.0                0                 1   \n",
       "7       2750.370370              3.0                0                 1   \n",
       "8       1542.857143              3.0                1                 0   \n",
       "9       3236.363636              2.0                1                 1   \n",
       "\n",
       "   amenitie_parrilla  amenitie_pileta  amenitie_amoblado  estrenar        lat  \\\n",
       "0                  0                1                  0         1 -34.559873   \n",
       "1                  0                1                  0         1 -34.559873   \n",
       "2                  0                0                  0         0 -34.580504   \n",
       "3                  0                0                  0         0 -34.590926   \n",
       "4                  0                0                  0         0 -34.622211   \n",
       "5                  0                0                  0         0 -34.623894   \n",
       "6                  0                0                  0         0 -34.620928   \n",
       "7                  0                0                  0         0 -34.620928   \n",
       "8                  0                0                  0         0 -34.628786   \n",
       "9                  0                0                  0         0 -34.562697   \n",
       "\n",
       "         lon                     geometry distsubte  \n",
       "0 -58.443362  POINT (-58.44336 -34.55987)  0.010223  \n",
       "1 -58.443362  POINT (-58.44336 -34.55987)  0.010223  \n",
       "2 -58.405874  POINT (-58.40587 -34.58050)  0.009443  \n",
       "3 -58.411665  POINT (-58.41167 -34.59093)  0.002714  \n",
       "4 -58.439128  POINT (-58.43913 -34.62221)  0.002731  \n",
       "5 -58.446861  POINT (-58.44686 -34.62389)  0.001824  \n",
       "6 -58.445874  POINT (-58.44587 -34.62093)  0.003803  \n",
       "7 -58.445874  POINT (-58.44587 -34.62093)  0.003803  \n",
       "8 -58.427783  POINT (-58.42778 -34.62879)  0.002031  \n",
       "9 -58.460157  POINT (-58.46016 -34.56270)  0.003688  "
      ]
     },
     "execution_count": 18,
     "metadata": {},
     "output_type": "execute_result"
    }
   ],
   "source": [
    "dfdata_reg_multiple.head(10)\n"
   ]
  },
  {
   "cell_type": "code",
   "execution_count": 19,
   "id": "591f1933",
   "metadata": {},
   "outputs": [],
   "source": []
  },
  {
   "cell_type": "code",
   "execution_count": 23,
   "id": "75cfb0c5",
   "metadata": {},
   "outputs": [
    {
     "data": {
      "text/plain": [
       "(4772, 16)"
      ]
     },
     "execution_count": 23,
     "metadata": {},
     "output_type": "execute_result"
    }
   ],
   "source": [
    "dfdata_reg_multiple.shape"
   ]
  },
  {
   "cell_type": "code",
   "execution_count": 25,
   "id": "5cb8ace7",
   "metadata": {},
   "outputs": [],
   "source": [
    "dfdata_reg_multiplesubte = dfdata_reg_multiple"
   ]
  },
  {
   "cell_type": "code",
   "execution_count": 26,
   "id": "5f59871a",
   "metadata": {},
   "outputs": [
    {
     "data": {
      "text/plain": [
       "(4772, 16)"
      ]
     },
     "execution_count": 26,
     "metadata": {},
     "output_type": "execute_result"
    }
   ],
   "source": [
    "dfdata_reg_multiplesubte.shape"
   ]
  },
  {
   "cell_type": "code",
   "execution_count": 28,
   "id": "df2851e6",
   "metadata": {},
   "outputs": [],
   "source": [
    "dfdata_reg_multiplesubte.drop(\"geometry\", axis=1, inplace=True)"
   ]
  },
  {
   "cell_type": "code",
   "execution_count": 32,
   "id": "28b4961b",
   "metadata": {},
   "outputs": [
    {
     "data": {
      "text/plain": [
       "(4772, 15)"
      ]
     },
     "execution_count": 32,
     "metadata": {},
     "output_type": "execute_result"
    }
   ],
   "source": [
    "dfdata_reg_multiplesubte.shape"
   ]
  },
  {
   "cell_type": "code",
   "execution_count": 33,
   "id": "f826ba23",
   "metadata": {},
   "outputs": [],
   "source": [
    "dfdata_reg_multiplesubte.to_csv(\"dfdata_reg_multiplesubte2.csv\")"
   ]
  },
  {
   "cell_type": "code",
   "execution_count": null,
   "id": "60063d42",
   "metadata": {},
   "outputs": [],
   "source": []
  }
 ],
 "metadata": {
  "kernelspec": {
   "display_name": "Python 3 (ipykernel)",
   "language": "python",
   "name": "python3"
  },
  "language_info": {
   "codemirror_mode": {
    "name": "ipython",
    "version": 3
   },
   "file_extension": ".py",
   "mimetype": "text/x-python",
   "name": "python",
   "nbconvert_exporter": "python",
   "pygments_lexer": "ipython3",
   "version": "3.7.13"
  }
 },
 "nbformat": 4,
 "nbformat_minor": 5
}
